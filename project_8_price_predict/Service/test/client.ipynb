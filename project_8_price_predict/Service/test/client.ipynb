{
 "cells": [
  {
   "attachments": {},
   "cell_type": "markdown",
   "metadata": {},
   "source": [
    "## Проверка модели в продакшен-режиме\n",
    "Данный модуль является техническим и служит для проверки выгруженной модели и вспомогательных данных на работоспособность и корректность прогнозов в режиме сервиса"
   ]
  },
  {
   "attachments": {},
   "cell_type": "markdown",
   "metadata": {},
   "source": [
    "#### Примечание 1:\n",
    "Для тестирования в модель подаётся dataframe из 10 ключевых признаков и target-признака, преобразованный в json-формат.</br>\n",
    "Если в данных target-признак равен 0, то считается, что его нет (боевое использование) и в этом случае модель выдаёт только прогноз без оценки его точности."
   ]
  },
  {
   "attachments": {},
   "cell_type": "markdown",
   "metadata": {},
   "source": [
    "#### Примечание 2:\n",
    "Можно было бы все функции и класс, использованные при обработке данных и подборе модели, выгрузить в отдельный модуль-библиотеку и не копировать код, но в этом случае снизится читабельность и понимание блока с подбором модели."
   ]
  },
  {
   "attachments": {},
   "cell_type": "markdown",
   "metadata": {},
   "source": [
    "#### Примечание 3:\n",
    "Благодаря тому, что подаваемые данные содержат существенно меньше объектов для оценки, мы можем позволить себе определять географические координаты с использованием адреса объекта."
   ]
  },
  {
   "cell_type": "code",
   "execution_count": 10,
   "metadata": {},
   "outputs": [],
   "source": [
    "import pandas as pd\n",
    "import numpy as np\n",
    "from prettytable import PrettyTable\n",
    "import random"
   ]
  },
  {
   "cell_type": "code",
   "execution_count": 11,
   "metadata": {},
   "outputs": [],
   "source": [
    "data = pd.read_csv('./Data/data.csv')"
   ]
  },
  {
   "cell_type": "code",
   "execution_count": 12,
   "metadata": {},
   "outputs": [],
   "source": [
    "def strIntersection(s1, s2):\n",
    "    \"\"\"Служебная функция для того, чтобы оставлять в строке только те символы, которые соответствуют маске\n",
    "\n",
    "    Args:\n",
    "        string: s1 исходная строка.\n",
    "        string: s2 маска.\n",
    "\n",
    "    Returns:\n",
    "        string: исходная строка после применения маски\n",
    "    \"\"\"\n",
    "    out = \"\"\n",
    "    for c in s1:\n",
    "        if c in s2:\n",
    "            out += c\n",
    "    return out\n",
    "\n",
    "def get_deviation(atrue, apred):\n",
    "    \"\"\"Получить отклонение предсказанного значения от истинного\n",
    "\n",
    "    Args:\n",
    "        float atrue: истинное значение\n",
    "        float apred: предсказанное значение\n",
    "\n",
    "    Returns:\n",
    "        string: строковое представление отклоения\n",
    "    \"\"\"\n",
    "    if atrue > apred:\n",
    "        return \"{:02n} %\".format(round((1 - apred/atrue)*100)*(-1))\n",
    "    else:\n",
    "        return \"{:02n} %\".format(round((1 - atrue/apred)*100))\n",
    "\n",
    "def print_result(sd, y_pred, y_true):\n",
    "    \"\"\"Печать результата в красивой табличной форме\n",
    "\n",
    "    Args:\n",
    "        dataframe sd: dataframe из признаков\n",
    "        float y_pred: истинное значение\n",
    "        float y_true: предсказанное значение\n",
    "\n",
    "    Returns:\n",
    "        list: значения свойств: 'Year built', 'Remodeled year', 'Heating', 'Cooling', 'Parking', 'lotsize', 'Price/sqft'\n",
    "    \"\"\"\n",
    "    t = PrettyTable(['State', 'City', 'Address', 'Sqft', 'Predicted', 'Real price (test)', 'Deviation'])\n",
    "    for idx, y in enumerate(y_pred):\n",
    "        y = round(np.float64(y))\n",
    "        try:\n",
    "            yt = round(np.float64(strIntersection(y_true[idx], '.1234567890')))\n",
    "        except Exception:\n",
    "            yt = 0\n",
    "        if (yt != np.nan) and (not np.isnan(yt)) and (yt > 0):\n",
    "            t.add_row([sd['state'].iloc[idx], sd['city'].iloc[idx], sd['street'].iloc[idx], sd['sqft'].iloc[idx], '${:0,.0f}'.format(y), '${:0,.0f}'.format(yt), get_deviation(yt, y)])\n",
    "        else:\n",
    "            t.add_row([sd['state'].iloc[idx], sd['city'].iloc[idx], sd['street'].iloc[idx], sd['sqft'].iloc[idx], '${:0,.0f}'.format(y), '-', '-'])\n",
    "    print(t)"
   ]
  },
  {
   "cell_type": "code",
   "execution_count": 22,
   "metadata": {},
   "outputs": [
    {
     "name": "stdout",
     "output_type": "stream",
     "text": [
      "Status code: 200\n",
      "+-------+---------------+--------------------------------------------+-----------------------------------------+------------+-------------------+-----------+\n",
      "| State |      City     |                  Address                   |                   Sqft                  | Predicted  | Real price (test) | Deviation |\n",
      "+-------+---------------+--------------------------------------------+-----------------------------------------+------------+-------------------+-----------+\n",
      "|   TX  |    Pearland   | The Kessler (L454 LN) Plan, Pearland Place | Total interior livable area: 2,991 sqft |  $387,906  |      $323,990     |    16 %   |\n",
      "|   FL  |     Weston    |           327 Lakeview Dr #104             |                  1,231                  |  $168,440  |      $204,000     |   -17 %   |\n",
      "|   IL  |    Chicago    |          2851 N Southport Ave #E           |                1,500 sqft               |  $445,780  |      $415,000     |    07 %   |\n",
      "|   PA  |  Philadelphia |             2200 Arch St #809              |                   970                   |  $250,006  |      $435,000     |   -43 %   |\n",
      "|   CA  | San Francisco |              474 Frederick St              |                3,045 sqft               | $2,059,067 |     $1,995,000    |    03 %   |\n",
      "|   FL  |    Hialeah    |            7001 W 35th Ave #307            |                1,170 sqft               |  $265,015  |      $289,000     |    -8 %   |\n",
      "|   DC  |   Washington  |              2701 32nd St NW               |                5,400 sqft               | $3,449,657 |    $11,200,000    |   -69 %   |\n",
      "|   DC  |   Washington  |              1235 16th St NE               |                  1,184                  |  $431,592  |      $430,000     |    00 %   |\n",
      "+-------+---------------+--------------------------------------------+-----------------------------------------+------------+-------------------+-----------+\n"
     ]
    }
   ],
   "source": [
    "import requests\n",
    "\n",
    "if __name__ == '__main__':\n",
    "    # Выберем случайную строку отсчёта\n",
    "    ridx = random.randint(0, data.shape[0] - 10)\n",
    "    # Выберем 10 строк признаков, начиная с выбранной строки\n",
    "    df = data[ridx:ridx + 10]\n",
    "    # Исключим строки с некорректной площадью объекта\n",
    "    df = df[((df['sqft'].isna() != True) & (df['sqft'] != '0'))]\n",
    "    jdata = df.to_json(orient=\"index\")\n",
    "    # выполняем POST-запрос на сервер по эндпоинту add с параметром json\n",
    "    r = requests.post('http://localhost:5000/predict', json=jdata)\n",
    "    # выводим статус запроса\n",
    "    print('Status code: {}'.format(r.status_code))\n",
    "    # реализуем обработку результата\n",
    "    if r.status_code == 200:\n",
    "        # если запрос выполнен успешно (код обработки=200),\n",
    "        # выводим результат на экран\n",
    "        print_result(df, r.json()['prediction'], df['target'].values)\n",
    "    else:\n",
    "        # если запрос завершён с кодом, отличным от 200\n",
    "        # выводим содержимое ответа\n",
    "        print(r.text)"
   ]
  }
 ],
 "metadata": {
  "kernelspec": {
   "display_name": "Python 3",
   "language": "python",
   "name": "python3"
  },
  "language_info": {
   "codemirror_mode": {
    "name": "ipython",
    "version": 3
   },
   "file_extension": ".py",
   "mimetype": "text/x-python",
   "name": "python",
   "nbconvert_exporter": "python",
   "pygments_lexer": "ipython3",
   "version": "3.10.6"
  },
  "orig_nbformat": 4
 },
 "nbformat": 4,
 "nbformat_minor": 2
}
